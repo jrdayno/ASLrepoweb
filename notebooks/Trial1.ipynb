{
 "cells": [
  {
   "cell_type": "code",
   "execution_count": 6,
   "id": "apparent-configuration",
   "metadata": {},
   "outputs": [],
   "source": [
    "from numpy.random import seed\n",
    "import cv2\n",
    "from sklearn.model_selection import train_test_split\n",
    "import os\n",
    "import numpy as np\n",
    "import skimage\n",
    "from skimage.transform import resize\n",
    "import csv\n",
    "import itertools\n",
    "from tqdm import tqdm\n",
    "from glob import glob\n",
    "from matplotlib import pyplot as plt\n",
    "from numpy import floor\n",
    "import random\n",
    "import tensorflow.compat.v1 as tf\n",
    "tf.disable_v2_behavior()\n",
    "from keras.layers import Conv2D, Dense, Dropout, Flatten\n",
    "from keras.models import Sequential\n",
    "from keras.preprocessing.image import ImageDataGenerator"
   ]
  },
  {
   "cell_type": "code",
   "execution_count": 7,
   "id": "chronic-politics",
   "metadata": {},
   "outputs": [],
   "source": [
    "def load_images(directory):\n",
    "    images = []\n",
    "    labels = []\n",
    "    for idx, label in enumerate(uniq_labels):\n",
    "        print(label,\" is ready to load\")\n",
    "        for file in os.listdir(directory + \"/\" + label):\n",
    "            filepath = directory + \"/\" + label + \"/\" + file\n",
    "            image = cv2.resize(cv2.imread(filepath), (64, 64))\n",
    "            images.append(image)\n",
    "            labels.append(idx)\n",
    "    images = np.array(images)\n",
    "    labels = np.array(labels)\n",
    "    return(images, labels)"
   ]
  },
  {
   "cell_type": "code",
   "execution_count": 24,
   "id": "charitable-hometown",
   "metadata": {},
   "outputs": [
    {
     "data": {
      "text/plain": [
       "['A',\n",
       " 'B',\n",
       " 'C',\n",
       " 'D',\n",
       " 'del',\n",
       " 'E',\n",
       " 'F',\n",
       " 'G',\n",
       " 'H',\n",
       " 'I',\n",
       " 'J',\n",
       " 'K',\n",
       " 'L',\n",
       " 'M',\n",
       " 'N',\n",
       " 'nothing',\n",
       " 'O',\n",
       " 'P',\n",
       " 'Q',\n",
       " 'R',\n",
       " 'S',\n",
       " 'space',\n",
       " 'T',\n",
       " 'U',\n",
       " 'V',\n",
       " 'W',\n",
       " 'X',\n",
       " 'Y',\n",
       " 'Z']"
      ]
     },
     "execution_count": 24,
     "metadata": {},
     "output_type": "execute_result"
    }
   ],
   "source": [
    "os.listdir(\"/Users/DaynoJa/Desktop/ASLData/asl_alphabet_train/asl_alphabet_train\")"
   ]
  },
  {
   "cell_type": "code",
   "execution_count": 25,
   "id": "tight-extra",
   "metadata": {},
   "outputs": [
    {
     "name": "stdout",
     "output_type": "stream",
     "text": [
      "A  is ready to load\n",
      "B  is ready to load\n",
      "C  is ready to load\n",
      "D  is ready to load\n",
      "E  is ready to load\n",
      "F  is ready to load\n",
      "G  is ready to load\n",
      "H  is ready to load\n",
      "I  is ready to load\n",
      "J  is ready to load\n",
      "K  is ready to load\n",
      "L  is ready to load\n",
      "M  is ready to load\n",
      "N  is ready to load\n",
      "O  is ready to load\n",
      "P  is ready to load\n",
      "Q  is ready to load\n",
      "R  is ready to load\n",
      "S  is ready to load\n",
      "T  is ready to load\n",
      "U  is ready to load\n",
      "V  is ready to load\n",
      "W  is ready to load\n",
      "X  is ready to load\n",
      "Y  is ready to load\n",
      "Z  is ready to load\n",
      "del  is ready to load\n",
      "nothing  is ready to load\n",
      "space  is ready to load\n",
      "Data has been loaded\n"
     ]
    }
   ],
   "source": [
    "import keras\n",
    "train_dir = \"/Users/DaynoJa/Desktop/ASLData/asl_alphabet_train/asl_alphabet_train\"\n",
    "\n",
    "uniq_labels = sorted(os.listdir(train_dir))\n",
    "#print(uniq_labels)\n",
    "images, labels = load_images(directory = train_dir)\n",
    "print(\"Data has been loaded\")"
   ]
  },
  {
   "cell_type": "code",
   "execution_count": 26,
   "id": "applied-farming",
   "metadata": {},
   "outputs": [
    {
     "name": "stdout",
     "output_type": "stream",
     "text": [
      "Total number of symbols:  29\n",
      "Number of training images:  69600\n",
      "Number of testing images:  17400\n"
     ]
    }
   ],
   "source": [
    "from sklearn.model_selection import train_test_split\n",
    "\n",
    "X_train, X_test, y_train, y_test = train_test_split(images, labels, test_size = 0.2, stratify = labels)\n",
    "\n",
    "n = len(uniq_labels)\n",
    "train_n = len(X_train)\n",
    "test_n = len(X_test)\n",
    "\n",
    "print(\"Total number of symbols: \", n)\n",
    "print(\"Number of training images: \" , train_n)\n",
    "print(\"Number of testing images: \", test_n)"
   ]
  },
  {
   "cell_type": "code",
   "execution_count": null,
   "id": "sticky-greece",
   "metadata": {},
   "outputs": [],
   "source": []
  }
 ],
 "metadata": {
  "kernelspec": {
   "display_name": "Python 3",
   "language": "python",
   "name": "python3"
  },
  "language_info": {
   "codemirror_mode": {
    "name": "ipython",
    "version": 3
   },
   "file_extension": ".py",
   "mimetype": "text/x-python",
   "name": "python",
   "nbconvert_exporter": "python",
   "pygments_lexer": "ipython3",
   "version": "3.8.5"
  }
 },
 "nbformat": 4,
 "nbformat_minor": 5
}
